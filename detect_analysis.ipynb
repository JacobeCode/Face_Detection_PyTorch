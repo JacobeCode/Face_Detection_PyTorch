{
 "cells": [
  {
   "cell_type": "code",
   "execution_count": 85,
   "metadata": {},
   "outputs": [
    {
     "ename": "ImportError",
     "evalue": "cannot import name 'transforms' from 'data_processing.transforms' (d:\\Repos\\Face_Detection_PyTorch\\data_processing\\transforms.py)",
     "output_type": "error",
     "traceback": [
      "\u001b[1;31m---------------------------------------------------------------------------\u001b[0m",
      "\u001b[1;31mImportError\u001b[0m                               Traceback (most recent call last)",
      "Cell \u001b[1;32mIn[85], line 8\u001b[0m\n\u001b[0;32m      5\u001b[0m \u001b[38;5;28;01mfrom\u001b[39;00m \u001b[38;5;21;01mmatplotlib\u001b[39;00m \u001b[38;5;28;01mimport\u001b[39;00m pyplot \u001b[38;5;28;01mas\u001b[39;00m plt\n\u001b[0;32m      6\u001b[0m \u001b[38;5;28;01mfrom\u001b[39;00m \u001b[38;5;21;01mmatplotlib\u001b[39;00m \u001b[38;5;28;01mimport\u001b[39;00m image \u001b[38;5;28;01mas\u001b[39;00m img\n\u001b[1;32m----> 8\u001b[0m \u001b[38;5;28;01mfrom\u001b[39;00m \u001b[38;5;21;01mdata_processing\u001b[39;00m\u001b[38;5;21;01m.\u001b[39;00m\u001b[38;5;21;01mtransforms\u001b[39;00m \u001b[38;5;28;01mimport\u001b[39;00m transforms\n",
      "\u001b[1;31mImportError\u001b[0m: cannot import name 'transforms' from 'data_processing.transforms' (d:\\Repos\\Face_Detection_PyTorch\\data_processing\\transforms.py)"
     ]
    }
   ],
   "source": [
    "import os\n",
    "\n",
    "import numpy as np\n",
    "\n",
    "from matplotlib import pyplot as plt\n",
    "from matplotlib import image as img\n",
    "\n",
    "from data_processing.transforms import transforms"
   ]
  },
  {
   "cell_type": "code",
   "execution_count": 76,
   "metadata": {},
   "outputs": [
    {
     "ename": "AttributeError",
     "evalue": "'Transforms' object has no attribute 'rotate_scale'",
     "output_type": "error",
     "traceback": [
      "\u001b[1;31m---------------------------------------------------------------------------\u001b[0m",
      "\u001b[1;31mAttributeError\u001b[0m                            Traceback (most recent call last)",
      "Cell \u001b[1;32mIn[76], line 13\u001b[0m\n\u001b[0;32m     10\u001b[0m example_ax\u001b[38;5;241m.\u001b[39mset_ylim([\u001b[38;5;241m512\u001b[39m, \u001b[38;5;241m0\u001b[39m])\n\u001b[0;32m     12\u001b[0m tef \u001b[38;5;241m=\u001b[39m Transforms()\n\u001b[1;32m---> 13\u001b[0m \u001b[43mtef\u001b[49m\u001b[38;5;241;43m.\u001b[39;49m\u001b[43mrotate_scale\u001b[49m()\n\u001b[0;32m     15\u001b[0m plt\u001b[38;5;241m.\u001b[39mtitle(\u001b[38;5;124m\"\u001b[39m\u001b[38;5;124mExamplatory image from dataset\u001b[39m\u001b[38;5;124m\"\u001b[39m)\n\u001b[0;32m     16\u001b[0m example_ax\u001b[38;5;241m.\u001b[39mimshow(tef\u001b[38;5;241m.\u001b[39mrotate_scale(img\u001b[38;5;241m.\u001b[39mimread(\u001b[38;5;124m\"\u001b[39m\u001b[38;5;124mdataset\u001b[39m\u001b[38;5;130;01m\\\\\u001b[39;00m\u001b[38;5;124mtrain\u001b[39m\u001b[38;5;130;01m\\\\\u001b[39;00m\u001b[38;5;124mwild\u001b[39m\u001b[38;5;130;01m\\\\\u001b[39;00m\u001b[38;5;124m\"\u001b[39m \u001b[38;5;241m+\u001b[39m np\u001b[38;5;241m.\u001b[39mrandom\u001b[38;5;241m.\u001b[39mchoice(train_wild_dirs)), \u001b[38;5;241m45\u001b[39m))\n",
      "\u001b[1;31mAttributeError\u001b[0m: 'Transforms' object has no attribute 'rotate_scale'"
     ]
    },
    {
     "data": {
      "image/png": "[encoded data removed]",
      "text/plain": [
       "<Figure size 640x480 with 1 Axes>"
      ]
     },
     "metadata": {},
     "output_type": "display_data"
    }
   ],
   "source": [
    "# Listing images in subsets\n",
    "train_dog_dirs = os.listdir(\"dataset\\\\train\\\\dog\")\n",
    "train_cat_dirs = os.listdir(\"dataset\\\\train\\\\cat\")\n",
    "train_wild_dirs = os.listdir(\"dataset\\\\train\\\\wild\")\n",
    "\n",
    "# For now manual choice of dataset (keep up with the directories)\n",
    "example_fig = plt.figure()\n",
    "example_ax = example_fig.add_subplot()\n",
    "example_ax.set_xlim([0, 512])\n",
    "example_ax.set_ylim([512, 0])\n",
    "\n",
    "tef = Transforms()\n",
    "tef.rotate_scale()\n",
    "\n",
    "plt.title(\"Examplatory image from dataset\")\n",
    "example_ax.imshow(tef.rotate_scale(img.imread(\"dataset\\\\train\\\\wild\\\\\" + np.random.choice(train_wild_dirs)), 45))\n",
    "plt.show()"
   ]
  },
  {
   "cell_type": "code",
   "execution_count": 50,
   "metadata": {},
   "outputs": [
    {
     "ename": "AttributeError",
     "evalue": "module 'data_processing.transforms' has no attribute 'transforms'",
     "output_type": "error",
     "traceback": [
      "\u001b[1;31m---------------------------------------------------------------------------\u001b[0m",
      "\u001b[1;31mAttributeError\u001b[0m                            Traceback (most recent call last)",
      "Cell \u001b[1;32mIn[50], line 2\u001b[0m\n\u001b[0;32m      1\u001b[0m \u001b[38;5;66;03m# Images are cropped pretty good, so I will use some transforms to change images (e.g. preventing overfitting)\u001b[39;00m\n\u001b[1;32m----> 2\u001b[0m \u001b[38;5;28mint\u001b[39m\u001b[38;5;241m=\u001b[39m \u001b[43mtransforms\u001b[49m\u001b[38;5;241;43m.\u001b[39;49m\u001b[43mtransforms\u001b[49m()\n",
      "\u001b[1;31mAttributeError\u001b[0m: module 'data_processing.transforms' has no attribute 'transforms'"
     ]
    }
   ],
   "source": [
    "# Images are cropped pretty good, so I will use some transforms to change images (e.g. preventing overfitting)"
   ]
  }
 ],
 "metadata": {
  "kernelspec": {
   "display_name": "face_venv",
   "language": "python",
   "name": "python3"
  },
  "language_info": {
   "codemirror_mode": {
    "name": "ipython",
    "version": 3
   },
   "file_extension": ".py",
   "mimetype": "text/x-python",
   "name": "python",
   "nbconvert_exporter": "python",
   "pygments_lexer": "ipython3",
   "version": "3.12.2"
  }
 },
 "nbformat": 4,
 "nbformat_minor": 2
}
