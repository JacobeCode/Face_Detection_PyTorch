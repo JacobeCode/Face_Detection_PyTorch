{
 "cells": [
  {
   "cell_type": "code",
   "execution_count": 5,
   "metadata": {},
   "outputs": [],
   "source": [
    "import torch\n",
    "import os\n",
    "import time\n",
    "\n",
    "# For first run only to set proper directory\n",
    "# os.chdir('..')\n",
    "\n",
    "import pandas as pd\n",
    "import numpy as np\n",
    "\n",
    "from sklearn.model_selection import train_test_split\n",
    "from SQL.connector import connector\n",
    "from emotions_model_training.EmotionsDataset import EmotionsDataset"
   ]
  },
  {
   "cell_type": "code",
   "execution_count": 2,
   "metadata": {},
   "outputs": [
    {
     "name": "stderr",
     "output_type": "stream",
     "text": [
      "d:\\Repos\\Face_Detection_PyTorch\\SQL\\connector.py:20: UserWarning: pandas only supports SQLAlchemy connectable (engine/connection) or database string URI or sqlite3 DBAPI2 connection. Other DBAPI2 objects are not tested. Please consider using SQLAlchemy.\n",
      "  data = pd.read_sql(query, connection)\n"
     ]
    }
   ],
   "source": [
    "db_dir = \"D:\\\\Repos\\\\Face_Detection_PyTorch\\\\dataset\\\\expression_dataset\\\\data\\\\data\\\\image\\\\origin\"\n",
    "\n",
    "conn = connector()\n",
    "db = conn.query(f'SELECT * FROM dbo.label')\n",
    "\n",
    "# Add image train_valid_test split (split database labels)\n",
    "\n",
    "dataset = EmotionsDataset(db, db_dir)"
   ]
  }
 ],
 "metadata": {
  "kernelspec": {
   "display_name": "face_venv",
   "language": "python",
   "name": "python3"
  },
  "language_info": {
   "codemirror_mode": {
    "name": "ipython",
    "version": 3
   },
   "file_extension": ".py",
   "mimetype": "text/x-python",
   "name": "python",
   "nbconvert_exporter": "python",
   "pygments_lexer": "ipython3",
   "version": "3.12.2"
  }
 },
 "nbformat": 4,
 "nbformat_minor": 2
}
